{
 "cells": [
  {
   "cell_type": "markdown",
   "metadata": {},
   "source": [
    "## Lecture 2: Preprocessing and Visualization\n",
    "\n",
    "### _What is preprocessing?_\n",
    "\n",
    "Preprocessing is a catch-all term for techniques that allow you to transform your data from a raw string of text into something that can easily be interacted with. When we talk about preprocessing, we typically refer to things like tokenization, lemmatization, POS-tagging, sentence boundary detection, etc. \n",
    "\n",
    "### _Why is it important?_\n",
    "\n",
    "Say you have a long string of text (maybe a book chapter?) and you need to extract frequency counts for all individual words that appear in that text. In Python, you can index into the string (e.g. `my_string[2]`), but this will return a single character. You can also return numerous characters by slicing (e.g. `my_string[2:5]`), but how do you know where the word boundaries are? A good tokenizer will help you do this, splitting the words away from each other and placing them into a list, which you can easily interact with. \n",
    "\n",
    "Similarly, say you already tokenized your input and want to count how many times a given verb occurs in the corpus. In English and the majority of the world's languages, verbs take on many inflected forms that make it difficult to track the occurence of the verb in aggregate. For example, for a verb like *play*, you might encounter *played*, *playing*, *plays*, etc. in your text. This is simple enough to count for a single verb (add the occurences of all individual forms together), but, if you're working with many word, you don't want to inventory every verb's inflected forms. That would be extremely time-consuming. Lemmatizers do this work for you, analyzing every word in a sentence and transforming it into its base, uninflected form (if needed). \n",
    "\n",
    "### _How can we do it?_\n",
    "\n",
    "For something like English tokenization, we can usually write a simple script that splits all words in a string into a list of tokens. Lemmatization is a bit trickier and POS-tagging is even harder than that. Fortunately, like we saw in the web scraping lecture, there are many Python libraries that can help you do this. [NLTK](https://www.nltk.org/) and [SpaCy](https://spacy.io) are two popular toolkits that come bundled with pretrained models for tokenization/segmentation, lemmatization, POS-tagging, Named-Entity Recognition, among many others. For the sake of this lecture, we'll focus on SpaCy, which is more oriented for pratical applications, rather than education purposes. "
   ]
  },
  {
   "cell_type": "markdown",
   "metadata": {},
   "source": [
    "### Tokenization\n",
    "\n",
    "Before diving into SpaCy, let's think about how we would begin to process raw text in Python. "
   ]
  },
  {
   "cell_type": "code",
   "execution_count": 13,
   "metadata": {},
   "outputs": [],
   "source": [
    "sent = \"I quickly ran to the store, after realizing we ran out of milk.\""
   ]
  },
  {
   "cell_type": "markdown",
   "metadata": {},
   "source": [
    "The simplest thing here would be to split the sentence on whitespace:"
   ]
  },
  {
   "cell_type": "code",
   "execution_count": 14,
   "metadata": {},
   "outputs": [
    {
     "name": "stdout",
     "output_type": "stream",
     "text": [
      "['I', 'quickly', 'ran', 'to', 'the', 'store,', 'after', 'realizing', 'we', 'ran', 'out', 'of', 'milk.']\n"
     ]
    }
   ],
   "source": [
    "tokenized_sent = sent.split(\" \")\n",
    "print(tokenized_sent)"
   ]
  },
  {
   "cell_type": "markdown",
   "metadata": {},
   "source": [
    "This looks OK, but we still see punctuation marks attached to several words, treating them as part of the tokens: `store,`, `milk.`. Maybe we can add spaces between words and their trailing punctuation marks before splitting on whitespace. "
   ]
  },
  {
   "cell_type": "code",
   "execution_count": 15,
   "metadata": {},
   "outputs": [
    {
     "name": "stdout",
     "output_type": "stream",
     "text": [
      "['I', 'quickly', 'ran', 'to', 'the', 'store', ',', 'after', 'realizing', 'we', 'ran', 'out', 'of', 'milk', '.']\n"
     ]
    }
   ],
   "source": [
    "sent = sent.replace(\",\", \" ,\")\n",
    "sent = sent.replace(\".\", \" .\")\n",
    "tokenized_sent = sent.split(\" \")\n",
    "print(tokenized_sent)"
   ]
  },
  {
   "cell_type": "markdown",
   "metadata": {},
   "source": [
    "This looks better. We can also remove the punctuation entirely, if we want. "
   ]
  },
  {
   "cell_type": "code",
   "execution_count": 16,
   "metadata": {},
   "outputs": [
    {
     "name": "stdout",
     "output_type": "stream",
     "text": [
      "['I', 'quickly', 'ran', 'to', 'the', 'store', 'after', 'realizing', 'we', 'ran', 'out', 'of', 'milk']\n"
     ]
    }
   ],
   "source": [
    "tokenized_sent = [tok for tok in tokenized_sent if tok.isalnum()]\n",
    "print(tokenized_sent)"
   ]
  },
  {
   "cell_type": "markdown",
   "metadata": {},
   "source": [
    "There are a few things we haven't addressed, but it seems like we can write a reasonable tokenizer for English (and many European languages) with a few lines of code (even less if we used regex). However, there are a lot of languages whose scripts do not rely on whitespace to separate words. Consider these two sentences in Chinese:"
   ]
  },
  {
   "cell_type": "code",
   "execution_count": 17,
   "metadata": {},
   "outputs": [],
   "source": [
    "sent1 = \"夏天能穿多少穿多少\"\n",
    "sent2 = \"冬天能穿多少穿多少\""
   ]
  },
  {
   "cell_type": "markdown",
   "metadata": {},
   "source": [
    "Sentence 1 roughly translates to \"Wear as little as you can in the summer\", while sentence 2 to \"Wear as much as you can in the winter\". Depending on the collocated term - 夏天 (summer) or 冬天 (winter) - the following character sequence can be segmented as follows:"
   ]
  },
  {
   "cell_type": "code",
   "execution_count": 18,
   "metadata": {},
   "outputs": [],
   "source": [
    "tokenized_sent1 = [(\"夏天\", \"summer\"), (\"能\", \"can\"), \\\n",
    "                   (\"穿\", \"wear\"), (\"多\", \"more\"), (\"少\", \"little\"), \\\n",
    "                   (\"穿\", \"wear\"), (\"多\", \"more\"), (\"少\", \"little\")]\n",
    "\n",
    "tokenized_sent2 = [(\"夏天\", \"winter\"), (\"能\", \"can\"), \\\n",
    "                   (\"穿\", \"wear\"), (\"多少\", \"amount\"), \\\n",
    "                   (\"穿\", \"wear\"), (\"多少\", \"amount\")]"
   ]
  },
  {
   "cell_type": "markdown",
   "metadata": {},
   "source": [
    "Clearly, there's no white space here so we can't use our previous code. Also, it seems that _how_ we choose to segment the character sequence has direct implications for how the sentence will eventually be interpreted. Such decisions are typically handled by machine learning models trained for tokenization/segmentation. We won't cover these here, but it's very important to be aware of such situations. "
   ]
  },
  {
   "cell_type": "markdown",
   "metadata": {},
   "source": [
    "### SpaCy\n",
    "\n",
    "Now let's move on to SpaCy, which can tokenize preprocess everything for us in one go. \n",
    "\n",
    "You can install SpaCy like so: \n",
    "\n",
    "`$ pip install -U spacy`\n",
    "\n",
    "After installing, you have to download SpaCy's models, which will be immediately integrated with the library:\n",
    "\n",
    "`$ python -m spacy download en_core_web_sm`"
   ]
  },
  {
   "cell_type": "markdown",
   "metadata": {},
   "source": [
    "Now we can load SpaCy inside Python and use it to process some text. We'll work with ten sentences from the *en10* set."
   ]
  },
  {
   "cell_type": "code",
   "execution_count": 19,
   "metadata": {},
   "outputs": [],
   "source": [
    "import spacy\n",
    "\n",
    "# Load SpaCy pretrained model\n",
    "nlp = spacy.load(\"en_core_web_sm\")\n",
    "\n",
    "raw_text = \"He worked for the BBC for a decade. She spoke to CNN style about the experience. Global warming has caused a change in the pattern of the rainy seasons. I also wonder whether the Davis Cup played a part. The scheme makes money through sponsorship and advertising. If a Turkish employee quits, then the Turkish work councils come. A witness told police that the victim had attacked the suspect in April. Mr Osborne signed up with a US speakers agency after being sacked in July. The RHS collected comments sent in by schoolchildren and teachers involved in the experiment. National reaction to the events in Kansas demonstrated how deeply divided the country had become.\"\n",
    "\n",
    "# Run our raw text through SpaCy pipeline\n",
    "processed_text = nlp(raw_text)"
   ]
  },
  {
   "cell_type": "markdown",
   "metadata": {},
   "source": [
    "Now that we have our raw text parsed and saved to the `processed_text` object, we can use it to extract tokens, lemmas, parts-of-speech, etc. "
   ]
  },
  {
   "cell_type": "code",
   "execution_count": 20,
   "metadata": {},
   "outputs": [
    {
     "name": "stdout",
     "output_type": "stream",
     "text": [
      "[token]\t[lemma]\t[pos]\t[dep]\n",
      "He\t-PRON-\tPRON\tnsubj\n",
      "worked\twork\tVERB\tROOT\n",
      "for\tfor\tADP\tprep\n",
      "the\tthe\tDET\tdet\n",
      "BBC\tBBC\tPROPN\tpobj\n",
      "for\tfor\tADP\tprep\n",
      "a\ta\tDET\tdet\n",
      "decade\tdecade\tNOUN\tpobj\n",
      ".\t.\tPUNCT\tpunct\n",
      "She\t-PRON-\tPRON\tnsubj\n",
      "spoke\tspeak\tVERB\tROOT\n",
      "to\tto\tADP\tprep\n",
      "CNN\tCNN\tPROPN\tcompound\n",
      "style\tstyle\tNOUN\tpobj\n",
      "about\tabout\tADP\tprep\n",
      "the\tthe\tDET\tdet\n",
      "experience\texperience\tNOUN\tpobj\n",
      ".\t.\tPUNCT\tpunct\n",
      "Global\tglobal\tADJ\tamod\n",
      "warming\twarming\tNOUN\tnsubj\n",
      "has\thave\tAUX\taux\n",
      "caused\tcause\tVERB\tROOT\n",
      "a\ta\tDET\tdet\n",
      "change\tchange\tNOUN\tdobj\n",
      "in\tin\tADP\tprep\n",
      "the\tthe\tDET\tdet\n",
      "pattern\tpattern\tNOUN\tpobj\n",
      "of\tof\tADP\tprep\n",
      "the\tthe\tDET\tdet\n",
      "rainy\trainy\tADJ\tamod\n",
      "seasons\tseason\tNOUN\tpobj\n",
      ".\t.\tPUNCT\tpunct\n",
      "I\t-PRON-\tPRON\tnsubj\n",
      "also\talso\tADV\tadvmod\n",
      "wonder\twonder\tVERB\tROOT\n",
      "whether\twhether\tSCONJ\tmark\n",
      "the\tthe\tDET\tdet\n",
      "Davis\tDavis\tPROPN\tcompound\n",
      "Cup\tCup\tPROPN\tnsubj\n",
      "played\tplay\tVERB\tccomp\n",
      "a\ta\tDET\tdet\n",
      "part\tpart\tNOUN\tdobj\n",
      ".\t.\tPUNCT\tpunct\n",
      "The\tthe\tDET\tdet\n",
      "scheme\tscheme\tNOUN\tnsubj\n",
      "makes\tmake\tVERB\tROOT\n",
      "money\tmoney\tNOUN\tdobj\n",
      "through\tthrough\tADP\tprep\n",
      "sponsorship\tsponsorship\tNOUN\tpobj\n",
      "and\tand\tCCONJ\tcc\n",
      "advertising\tadvertising\tNOUN\tconj\n",
      ".\t.\tPUNCT\tpunct\n",
      "If\tif\tSCONJ\tmark\n",
      "a\ta\tDET\tdet\n",
      "Turkish\tturkish\tADJ\tamod\n",
      "employee\temployee\tNOUN\tnsubj\n",
      "quits\tquit\tVERB\tadvcl\n",
      ",\t,\tPUNCT\tpunct\n",
      "then\tthen\tADV\tadvmod\n",
      "the\tthe\tDET\tdet\n",
      "Turkish\tturkish\tADJ\tamod\n",
      "work\twork\tNOUN\tcompound\n",
      "councils\tcouncil\tNOUN\tnsubj\n",
      "come\tcome\tVERB\tROOT\n",
      ".\t.\tPUNCT\tpunct\n",
      "A\ta\tDET\tdet\n",
      "witness\twitness\tNOUN\tnsubj\n",
      "told\ttell\tVERB\tROOT\n",
      "police\tpolice\tNOUN\tdobj\n",
      "that\tthat\tSCONJ\tmark\n",
      "the\tthe\tDET\tdet\n",
      "victim\tvictim\tNOUN\tnsubj\n",
      "had\thave\tAUX\taux\n",
      "attacked\tattack\tVERB\tccomp\n",
      "the\tthe\tDET\tdet\n",
      "suspect\tsuspect\tNOUN\tdobj\n",
      "in\tin\tADP\tprep\n",
      "April\tApril\tPROPN\tpobj\n",
      ".\t.\tPUNCT\tpunct\n",
      "Mr\tMr\tPROPN\tcompound\n",
      "Osborne\tOsborne\tPROPN\tnsubj\n",
      "signed\tsign\tVERB\tROOT\n",
      "up\tup\tADP\tprt\n",
      "with\twith\tADP\tprep\n",
      "a\ta\tDET\tdet\n",
      "US\tUS\tPROPN\tcompound\n",
      "speakers\tspeaker\tNOUN\tcompound\n",
      "agency\tagency\tNOUN\tpobj\n",
      "after\tafter\tADP\tprep\n",
      "being\tbe\tAUX\tauxpass\n",
      "sacked\tsack\tVERB\tpcomp\n",
      "in\tin\tADP\tprep\n",
      "July\tJuly\tPROPN\tpobj\n",
      ".\t.\tPUNCT\tpunct\n",
      "The\tthe\tDET\tdet\n",
      "RHS\tRHS\tPROPN\tnsubj\n",
      "collected\tcollect\tVERB\tROOT\n",
      "comments\tcomment\tNOUN\tdobj\n",
      "sent\tsend\tVERB\tacl\n",
      "in\tin\tADP\tprt\n",
      "by\tby\tADP\tagent\n",
      "schoolchildren\tschoolchildren\tNOUN\tpobj\n",
      "and\tand\tCCONJ\tcc\n",
      "teachers\tteacher\tNOUN\tconj\n",
      "involved\tinvolve\tVERB\tacl\n",
      "in\tin\tADP\tprep\n",
      "the\tthe\tDET\tdet\n",
      "experiment\texperiment\tNOUN\tpobj\n",
      ".\t.\tPUNCT\tpunct\n",
      "National\tnational\tADJ\tamod\n",
      "reaction\treaction\tNOUN\tnsubj\n",
      "to\tto\tADP\tprep\n",
      "the\tthe\tDET\tdet\n",
      "events\tevent\tNOUN\tpobj\n",
      "in\tin\tADP\tprep\n",
      "Kansas\tKansas\tPROPN\tpobj\n",
      "demonstrated\tdemonstrate\tVERB\tROOT\n",
      "how\thow\tADV\tadvmod\n",
      "deeply\tdeeply\tADV\tadvmod\n",
      "divided\tdivide\tVERB\tacomp\n",
      "the\tthe\tDET\tdet\n",
      "country\tcountry\tNOUN\tnsubj\n",
      "had\thave\tAUX\taux\n",
      "become\tbecome\tVERB\tccomp\n",
      ".\t.\tPUNCT\tpunct\n"
     ]
    }
   ],
   "source": [
    "# Print heading for output table\n",
    "print(\"[token]\\t[lemma]\\t[pos]\\t[dep]\")\n",
    "\n",
    "# Loop through tokens in SpaCy object\n",
    "# Print text, lemma, POS, and dep attributes for each token\n",
    "for token in processed_text:\n",
    "    print(f\"{token.text}\\t{token.lemma_}\\t{token.pos_}\\t{token.dep_}\")"
   ]
  },
  {
   "cell_type": "markdown",
   "metadata": {},
   "source": [
    "If we need to extract individual sentences, we can do that as well:"
   ]
  },
  {
   "cell_type": "code",
   "execution_count": 21,
   "metadata": {},
   "outputs": [
    {
     "name": "stdout",
     "output_type": "stream",
     "text": [
      "[token]\t[lemma]\t[pos]\t[dep]\n",
      "He\t-PRON-\tPRON\tnsubj\n",
      "worked\twork\tVERB\tROOT\n",
      "for\tfor\tADP\tprep\n",
      "the\tthe\tDET\tdet\n",
      "BBC\tBBC\tPROPN\tpobj\n",
      "for\tfor\tADP\tprep\n",
      "a\ta\tDET\tdet\n",
      "decade\tdecade\tNOUN\tpobj\n",
      ".\t.\tPUNCT\tpunct\n"
     ]
    }
   ],
   "source": [
    "sents = [sent for sent in processed_text.sents]\n",
    "\n",
    "print(\"[token]\\t[lemma]\\t[pos]\\t[dep]\")\n",
    "for token in sents[0]:\n",
    "    print(f\"{token.text}\\t{token.lemma_}\\t{token.pos_}\\t{token.dep_}\")"
   ]
  },
  {
   "cell_type": "markdown",
   "metadata": {},
   "source": [
    "... we can also look at the dependency tree for a given sentence:"
   ]
  },
  {
   "cell_type": "code",
   "execution_count": 22,
   "metadata": {},
   "outputs": [
    {
     "data": {
      "text/html": [
       "<svg xmlns=\"http://www.w3.org/2000/svg\" xmlns:xlink=\"http://www.w3.org/1999/xlink\" xml:lang=\"en\" id=\"8133e057ecab414f85665d56aa73c03c-0\" class=\"displacy\" width=\"2325\" height=\"399.5\" direction=\"ltr\" style=\"max-width: none; height: 399.5px; color: #000000; background: #ffffff; font-family: Arial; direction: ltr\">\n",
       "<text class=\"displacy-token\" fill=\"currentColor\" text-anchor=\"middle\" y=\"309.5\">\n",
       "    <tspan class=\"displacy-word\" fill=\"currentColor\" x=\"50\">Global</tspan>\n",
       "    <tspan class=\"displacy-tag\" dy=\"2em\" fill=\"currentColor\" x=\"50\">ADJ</tspan>\n",
       "</text>\n",
       "\n",
       "<text class=\"displacy-token\" fill=\"currentColor\" text-anchor=\"middle\" y=\"309.5\">\n",
       "    <tspan class=\"displacy-word\" fill=\"currentColor\" x=\"225\">warming</tspan>\n",
       "    <tspan class=\"displacy-tag\" dy=\"2em\" fill=\"currentColor\" x=\"225\">NOUN</tspan>\n",
       "</text>\n",
       "\n",
       "<text class=\"displacy-token\" fill=\"currentColor\" text-anchor=\"middle\" y=\"309.5\">\n",
       "    <tspan class=\"displacy-word\" fill=\"currentColor\" x=\"400\">has</tspan>\n",
       "    <tspan class=\"displacy-tag\" dy=\"2em\" fill=\"currentColor\" x=\"400\">AUX</tspan>\n",
       "</text>\n",
       "\n",
       "<text class=\"displacy-token\" fill=\"currentColor\" text-anchor=\"middle\" y=\"309.5\">\n",
       "    <tspan class=\"displacy-word\" fill=\"currentColor\" x=\"575\">caused</tspan>\n",
       "    <tspan class=\"displacy-tag\" dy=\"2em\" fill=\"currentColor\" x=\"575\">VERB</tspan>\n",
       "</text>\n",
       "\n",
       "<text class=\"displacy-token\" fill=\"currentColor\" text-anchor=\"middle\" y=\"309.5\">\n",
       "    <tspan class=\"displacy-word\" fill=\"currentColor\" x=\"750\">a</tspan>\n",
       "    <tspan class=\"displacy-tag\" dy=\"2em\" fill=\"currentColor\" x=\"750\">DET</tspan>\n",
       "</text>\n",
       "\n",
       "<text class=\"displacy-token\" fill=\"currentColor\" text-anchor=\"middle\" y=\"309.5\">\n",
       "    <tspan class=\"displacy-word\" fill=\"currentColor\" x=\"925\">change</tspan>\n",
       "    <tspan class=\"displacy-tag\" dy=\"2em\" fill=\"currentColor\" x=\"925\">NOUN</tspan>\n",
       "</text>\n",
       "\n",
       "<text class=\"displacy-token\" fill=\"currentColor\" text-anchor=\"middle\" y=\"309.5\">\n",
       "    <tspan class=\"displacy-word\" fill=\"currentColor\" x=\"1100\">in</tspan>\n",
       "    <tspan class=\"displacy-tag\" dy=\"2em\" fill=\"currentColor\" x=\"1100\">ADP</tspan>\n",
       "</text>\n",
       "\n",
       "<text class=\"displacy-token\" fill=\"currentColor\" text-anchor=\"middle\" y=\"309.5\">\n",
       "    <tspan class=\"displacy-word\" fill=\"currentColor\" x=\"1275\">the</tspan>\n",
       "    <tspan class=\"displacy-tag\" dy=\"2em\" fill=\"currentColor\" x=\"1275\">DET</tspan>\n",
       "</text>\n",
       "\n",
       "<text class=\"displacy-token\" fill=\"currentColor\" text-anchor=\"middle\" y=\"309.5\">\n",
       "    <tspan class=\"displacy-word\" fill=\"currentColor\" x=\"1450\">pattern</tspan>\n",
       "    <tspan class=\"displacy-tag\" dy=\"2em\" fill=\"currentColor\" x=\"1450\">NOUN</tspan>\n",
       "</text>\n",
       "\n",
       "<text class=\"displacy-token\" fill=\"currentColor\" text-anchor=\"middle\" y=\"309.5\">\n",
       "    <tspan class=\"displacy-word\" fill=\"currentColor\" x=\"1625\">of</tspan>\n",
       "    <tspan class=\"displacy-tag\" dy=\"2em\" fill=\"currentColor\" x=\"1625\">ADP</tspan>\n",
       "</text>\n",
       "\n",
       "<text class=\"displacy-token\" fill=\"currentColor\" text-anchor=\"middle\" y=\"309.5\">\n",
       "    <tspan class=\"displacy-word\" fill=\"currentColor\" x=\"1800\">the</tspan>\n",
       "    <tspan class=\"displacy-tag\" dy=\"2em\" fill=\"currentColor\" x=\"1800\">DET</tspan>\n",
       "</text>\n",
       "\n",
       "<text class=\"displacy-token\" fill=\"currentColor\" text-anchor=\"middle\" y=\"309.5\">\n",
       "    <tspan class=\"displacy-word\" fill=\"currentColor\" x=\"1975\">rainy</tspan>\n",
       "    <tspan class=\"displacy-tag\" dy=\"2em\" fill=\"currentColor\" x=\"1975\">ADJ</tspan>\n",
       "</text>\n",
       "\n",
       "<text class=\"displacy-token\" fill=\"currentColor\" text-anchor=\"middle\" y=\"309.5\">\n",
       "    <tspan class=\"displacy-word\" fill=\"currentColor\" x=\"2150\">seasons.</tspan>\n",
       "    <tspan class=\"displacy-tag\" dy=\"2em\" fill=\"currentColor\" x=\"2150\">NOUN</tspan>\n",
       "</text>\n",
       "\n",
       "<g class=\"displacy-arrow\">\n",
       "    <path class=\"displacy-arc\" id=\"arrow-8133e057ecab414f85665d56aa73c03c-0-0\" stroke-width=\"2px\" d=\"M70,264.5 C70,177.0 215.0,177.0 215.0,264.5\" fill=\"none\" stroke=\"currentColor\"/>\n",
       "    <text dy=\"1.25em\" style=\"font-size: 0.8em; letter-spacing: 1px\">\n",
       "        <textPath xlink:href=\"#arrow-8133e057ecab414f85665d56aa73c03c-0-0\" class=\"displacy-label\" startOffset=\"50%\" side=\"left\" fill=\"currentColor\" text-anchor=\"middle\">amod</textPath>\n",
       "    </text>\n",
       "    <path class=\"displacy-arrowhead\" d=\"M70,266.5 L62,254.5 78,254.5\" fill=\"currentColor\"/>\n",
       "</g>\n",
       "\n",
       "<g class=\"displacy-arrow\">\n",
       "    <path class=\"displacy-arc\" id=\"arrow-8133e057ecab414f85665d56aa73c03c-0-1\" stroke-width=\"2px\" d=\"M245,264.5 C245,89.5 570.0,89.5 570.0,264.5\" fill=\"none\" stroke=\"currentColor\"/>\n",
       "    <text dy=\"1.25em\" style=\"font-size: 0.8em; letter-spacing: 1px\">\n",
       "        <textPath xlink:href=\"#arrow-8133e057ecab414f85665d56aa73c03c-0-1\" class=\"displacy-label\" startOffset=\"50%\" side=\"left\" fill=\"currentColor\" text-anchor=\"middle\">nsubj</textPath>\n",
       "    </text>\n",
       "    <path class=\"displacy-arrowhead\" d=\"M245,266.5 L237,254.5 253,254.5\" fill=\"currentColor\"/>\n",
       "</g>\n",
       "\n",
       "<g class=\"displacy-arrow\">\n",
       "    <path class=\"displacy-arc\" id=\"arrow-8133e057ecab414f85665d56aa73c03c-0-2\" stroke-width=\"2px\" d=\"M420,264.5 C420,177.0 565.0,177.0 565.0,264.5\" fill=\"none\" stroke=\"currentColor\"/>\n",
       "    <text dy=\"1.25em\" style=\"font-size: 0.8em; letter-spacing: 1px\">\n",
       "        <textPath xlink:href=\"#arrow-8133e057ecab414f85665d56aa73c03c-0-2\" class=\"displacy-label\" startOffset=\"50%\" side=\"left\" fill=\"currentColor\" text-anchor=\"middle\">aux</textPath>\n",
       "    </text>\n",
       "    <path class=\"displacy-arrowhead\" d=\"M420,266.5 L412,254.5 428,254.5\" fill=\"currentColor\"/>\n",
       "</g>\n",
       "\n",
       "<g class=\"displacy-arrow\">\n",
       "    <path class=\"displacy-arc\" id=\"arrow-8133e057ecab414f85665d56aa73c03c-0-3\" stroke-width=\"2px\" d=\"M770,264.5 C770,177.0 915.0,177.0 915.0,264.5\" fill=\"none\" stroke=\"currentColor\"/>\n",
       "    <text dy=\"1.25em\" style=\"font-size: 0.8em; letter-spacing: 1px\">\n",
       "        <textPath xlink:href=\"#arrow-8133e057ecab414f85665d56aa73c03c-0-3\" class=\"displacy-label\" startOffset=\"50%\" side=\"left\" fill=\"currentColor\" text-anchor=\"middle\">det</textPath>\n",
       "    </text>\n",
       "    <path class=\"displacy-arrowhead\" d=\"M770,266.5 L762,254.5 778,254.5\" fill=\"currentColor\"/>\n",
       "</g>\n",
       "\n",
       "<g class=\"displacy-arrow\">\n",
       "    <path class=\"displacy-arc\" id=\"arrow-8133e057ecab414f85665d56aa73c03c-0-4\" stroke-width=\"2px\" d=\"M595,264.5 C595,89.5 920.0,89.5 920.0,264.5\" fill=\"none\" stroke=\"currentColor\"/>\n",
       "    <text dy=\"1.25em\" style=\"font-size: 0.8em; letter-spacing: 1px\">\n",
       "        <textPath xlink:href=\"#arrow-8133e057ecab414f85665d56aa73c03c-0-4\" class=\"displacy-label\" startOffset=\"50%\" side=\"left\" fill=\"currentColor\" text-anchor=\"middle\">dobj</textPath>\n",
       "    </text>\n",
       "    <path class=\"displacy-arrowhead\" d=\"M920.0,266.5 L928.0,254.5 912.0,254.5\" fill=\"currentColor\"/>\n",
       "</g>\n",
       "\n",
       "<g class=\"displacy-arrow\">\n",
       "    <path class=\"displacy-arc\" id=\"arrow-8133e057ecab414f85665d56aa73c03c-0-5\" stroke-width=\"2px\" d=\"M945,264.5 C945,177.0 1090.0,177.0 1090.0,264.5\" fill=\"none\" stroke=\"currentColor\"/>\n",
       "    <text dy=\"1.25em\" style=\"font-size: 0.8em; letter-spacing: 1px\">\n",
       "        <textPath xlink:href=\"#arrow-8133e057ecab414f85665d56aa73c03c-0-5\" class=\"displacy-label\" startOffset=\"50%\" side=\"left\" fill=\"currentColor\" text-anchor=\"middle\">prep</textPath>\n",
       "    </text>\n",
       "    <path class=\"displacy-arrowhead\" d=\"M1090.0,266.5 L1098.0,254.5 1082.0,254.5\" fill=\"currentColor\"/>\n",
       "</g>\n",
       "\n",
       "<g class=\"displacy-arrow\">\n",
       "    <path class=\"displacy-arc\" id=\"arrow-8133e057ecab414f85665d56aa73c03c-0-6\" stroke-width=\"2px\" d=\"M1295,264.5 C1295,177.0 1440.0,177.0 1440.0,264.5\" fill=\"none\" stroke=\"currentColor\"/>\n",
       "    <text dy=\"1.25em\" style=\"font-size: 0.8em; letter-spacing: 1px\">\n",
       "        <textPath xlink:href=\"#arrow-8133e057ecab414f85665d56aa73c03c-0-6\" class=\"displacy-label\" startOffset=\"50%\" side=\"left\" fill=\"currentColor\" text-anchor=\"middle\">det</textPath>\n",
       "    </text>\n",
       "    <path class=\"displacy-arrowhead\" d=\"M1295,266.5 L1287,254.5 1303,254.5\" fill=\"currentColor\"/>\n",
       "</g>\n",
       "\n",
       "<g class=\"displacy-arrow\">\n",
       "    <path class=\"displacy-arc\" id=\"arrow-8133e057ecab414f85665d56aa73c03c-0-7\" stroke-width=\"2px\" d=\"M1120,264.5 C1120,89.5 1445.0,89.5 1445.0,264.5\" fill=\"none\" stroke=\"currentColor\"/>\n",
       "    <text dy=\"1.25em\" style=\"font-size: 0.8em; letter-spacing: 1px\">\n",
       "        <textPath xlink:href=\"#arrow-8133e057ecab414f85665d56aa73c03c-0-7\" class=\"displacy-label\" startOffset=\"50%\" side=\"left\" fill=\"currentColor\" text-anchor=\"middle\">pobj</textPath>\n",
       "    </text>\n",
       "    <path class=\"displacy-arrowhead\" d=\"M1445.0,266.5 L1453.0,254.5 1437.0,254.5\" fill=\"currentColor\"/>\n",
       "</g>\n",
       "\n",
       "<g class=\"displacy-arrow\">\n",
       "    <path class=\"displacy-arc\" id=\"arrow-8133e057ecab414f85665d56aa73c03c-0-8\" stroke-width=\"2px\" d=\"M1470,264.5 C1470,177.0 1615.0,177.0 1615.0,264.5\" fill=\"none\" stroke=\"currentColor\"/>\n",
       "    <text dy=\"1.25em\" style=\"font-size: 0.8em; letter-spacing: 1px\">\n",
       "        <textPath xlink:href=\"#arrow-8133e057ecab414f85665d56aa73c03c-0-8\" class=\"displacy-label\" startOffset=\"50%\" side=\"left\" fill=\"currentColor\" text-anchor=\"middle\">prep</textPath>\n",
       "    </text>\n",
       "    <path class=\"displacy-arrowhead\" d=\"M1615.0,266.5 L1623.0,254.5 1607.0,254.5\" fill=\"currentColor\"/>\n",
       "</g>\n",
       "\n",
       "<g class=\"displacy-arrow\">\n",
       "    <path class=\"displacy-arc\" id=\"arrow-8133e057ecab414f85665d56aa73c03c-0-9\" stroke-width=\"2px\" d=\"M1820,264.5 C1820,89.5 2145.0,89.5 2145.0,264.5\" fill=\"none\" stroke=\"currentColor\"/>\n",
       "    <text dy=\"1.25em\" style=\"font-size: 0.8em; letter-spacing: 1px\">\n",
       "        <textPath xlink:href=\"#arrow-8133e057ecab414f85665d56aa73c03c-0-9\" class=\"displacy-label\" startOffset=\"50%\" side=\"left\" fill=\"currentColor\" text-anchor=\"middle\">det</textPath>\n",
       "    </text>\n",
       "    <path class=\"displacy-arrowhead\" d=\"M1820,266.5 L1812,254.5 1828,254.5\" fill=\"currentColor\"/>\n",
       "</g>\n",
       "\n",
       "<g class=\"displacy-arrow\">\n",
       "    <path class=\"displacy-arc\" id=\"arrow-8133e057ecab414f85665d56aa73c03c-0-10\" stroke-width=\"2px\" d=\"M1995,264.5 C1995,177.0 2140.0,177.0 2140.0,264.5\" fill=\"none\" stroke=\"currentColor\"/>\n",
       "    <text dy=\"1.25em\" style=\"font-size: 0.8em; letter-spacing: 1px\">\n",
       "        <textPath xlink:href=\"#arrow-8133e057ecab414f85665d56aa73c03c-0-10\" class=\"displacy-label\" startOffset=\"50%\" side=\"left\" fill=\"currentColor\" text-anchor=\"middle\">amod</textPath>\n",
       "    </text>\n",
       "    <path class=\"displacy-arrowhead\" d=\"M1995,266.5 L1987,254.5 2003,254.5\" fill=\"currentColor\"/>\n",
       "</g>\n",
       "\n",
       "<g class=\"displacy-arrow\">\n",
       "    <path class=\"displacy-arc\" id=\"arrow-8133e057ecab414f85665d56aa73c03c-0-11\" stroke-width=\"2px\" d=\"M1645,264.5 C1645,2.0 2150.0,2.0 2150.0,264.5\" fill=\"none\" stroke=\"currentColor\"/>\n",
       "    <text dy=\"1.25em\" style=\"font-size: 0.8em; letter-spacing: 1px\">\n",
       "        <textPath xlink:href=\"#arrow-8133e057ecab414f85665d56aa73c03c-0-11\" class=\"displacy-label\" startOffset=\"50%\" side=\"left\" fill=\"currentColor\" text-anchor=\"middle\">pobj</textPath>\n",
       "    </text>\n",
       "    <path class=\"displacy-arrowhead\" d=\"M2150.0,266.5 L2158.0,254.5 2142.0,254.5\" fill=\"currentColor\"/>\n",
       "</g>\n",
       "</svg>"
      ],
      "text/plain": [
       "<IPython.core.display.HTML object>"
      ]
     },
     "metadata": {},
     "output_type": "display_data"
    }
   ],
   "source": [
    "from spacy import displacy\n",
    "\n",
    "displacy.render(sents[2], style=\"dep\")"
   ]
  },
  {
   "cell_type": "markdown",
   "metadata": {},
   "source": [
    "... and explore the named entities found in the document:"
   ]
  },
  {
   "cell_type": "code",
   "execution_count": 23,
   "metadata": {},
   "outputs": [
    {
     "name": "stdout",
     "output_type": "stream",
     "text": [
      "[token]\t[ent type]\n",
      "BBC\tORG\n",
      "a decade\tDATE\n",
      "CNN\tORG\n",
      "the Davis Cup\tEVENT\n",
      "Turkish\tNORP\n",
      "Turkish\tNORP\n",
      "April\tDATE\n",
      "Osborne\tPERSON\n",
      "US\tGPE\n",
      "July\tDATE\n",
      "RHS\tORG\n",
      "Kansas\tGPE\n"
     ]
    }
   ],
   "source": [
    "print(\"[token]\\t[ent type]\")\n",
    "for ent in processed_text.ents:\n",
    "    print(f\"{ent.text}\\t{ent.label_}\")"
   ]
  },
  {
   "cell_type": "markdown",
   "metadata": {},
   "source": [
    "Now that we've gotten a sense of how useful SpaCy can be for preprocessing text, let's use it to learn something about the presidential speeches we scraped in the last lecture. Let's work on Barack Obama's speeches for now. "
   ]
  },
  {
   "cell_type": "code",
   "execution_count": 24,
   "metadata": {},
   "outputs": [],
   "source": [
    "import os, json\n",
    "\n",
    "speech_dir = \"../files/us_presidential_speeches/\"\n",
    "files = os.listdir(speech_dir)\n",
    "\n",
    "text = \"\"\n",
    "for file in files:\n",
    "    with open(speech_dir+file, \"r\") as infile:\n",
    "        speech = json.load(infile)\n",
    "        if speech[\"Name\"] == \"Barack Obama\":\n",
    "            text = text + speech[\"Speech\"]"
   ]
  },
  {
   "cell_type": "code",
   "execution_count": 25,
   "metadata": {},
   "outputs": [],
   "source": [
    "ent_pipeline = spacy.load(\"en_core_web_sm\", disable = [\"tagger\", \"parser\"])\n",
    "ent_pipeline.max_length = len(text)\n",
    "\n",
    "processed_speeches = ent_pipeline(text)"
   ]
  },
  {
   "cell_type": "markdown",
   "metadata": {},
   "source": [
    "Since we have access to a NER model, something we may be interested in is what kind of countries or places a particular president refers to in his speeches. If we look at [SpaCy's Named Entity documentation](https://spacy.io/api/annotation#named-entities), we can see that the tag we're interested in is `GPE`. Let's filter mentions of `GPE` and count them, using Python's `Counter` collection. "
   ]
  },
  {
   "cell_type": "code",
   "execution_count": 26,
   "metadata": {},
   "outputs": [
    {
     "name": "stdout",
     "output_type": "stream",
     "text": [
      "[ent]\t[count]\n",
      "america\t570\n",
      "iraq\t128\n",
      "the united states\t124\n",
      "afghanistan\t120\n",
      "israel\t115\n",
      "washington\t97\n",
      "the united states of america\t73\n",
      "iran\t55\n",
      "cuba\t43\n",
      "pakistan\t41\n",
      "china\t34\n",
      "syria\t20\n",
      "u.s.\t19\n",
      "north africa\t17\n",
      "egypt\t16\n",
      "ohio\t15\n",
      "new york\t15\n",
      "russia\t15\n",
      "palestine\t14\n",
      "libya\t13\n",
      "natoma\t12\n",
      "chicago\t11\n",
      "california\t11\n",
      "cairo\t11\n",
      "connecticut\t11\n"
     ]
    }
   ],
   "source": [
    "from collections import Counter\n",
    "\n",
    "ents = [ent.text.lower() for ent in processed_speeches.ents if ent.label_ == \"GPE\"]\n",
    "\n",
    "counted = Counter(ents)\n",
    "\n",
    "print(\"[ent]\\t[count]\")\n",
    "for count in counted.most_common(25):\n",
    "    print(f\"{count[0]}\\t{count[1]}\")"
   ]
  },
  {
   "cell_type": "markdown",
   "metadata": {},
   "source": [
    "Nothing really surprising here. Let's wrap this code into a function and look at some other entity tags. "
   ]
  },
  {
   "cell_type": "code",
   "execution_count": 27,
   "metadata": {},
   "outputs": [],
   "source": [
    "def ent_counter(processed_text, ent_label, n=10):\n",
    "    ents = [ent.text.lower() for ent in processed_text.ents if ent.label_ == ent_label]\n",
    "    counted = Counter(ents)\n",
    "    return counted.most_common(n)"
   ]
  },
  {
   "cell_type": "code",
   "execution_count": 28,
   "metadata": {},
   "outputs": [
    {
     "name": "stdout",
     "output_type": "stream",
     "text": [
      "[ent]\t[count]\n",
      "god\t32\n",
      "michelle\t21\n",
      "john mccain\t19\n",
      "osama bin laden\t17\n",
      "bin laden\t16\n",
      "newtown\t13\n",
      "president\t12\n",
      "alan\t12\n",
      "bush\t11\n",
      "john boehner\t10\n",
      "gabby\t10\n",
      "biden\t9\n",
      "assad\t9\n",
      "mitch mcconnell\t9\n",
      "pinckney\t8\n",
      "sotomayor\t8\n",
      "ben\t8\n",
      "rebekah\t8\n",
      "kennedy\t7\n",
      "romney\t7\n",
      "joe biden\t7\n",
      "sasha\t7\n",
      "trayvon martin\t7\n",
      "john\t6\n",
      "john lewis\t6\n"
     ]
    }
   ],
   "source": [
    "person_ents = ent_counter(processed_speeches, ent_label = \"PERSON\", n=25)\n",
    "print(\"[ent]\\t[count]\")\n",
    "for count in person_ents:\n",
    "    print(f\"{count[0]}\\t{count[1]}\")"
   ]
  },
  {
   "cell_type": "code",
   "execution_count": 29,
   "metadata": {},
   "outputs": [
    {
     "name": "stdout",
     "output_type": "stream",
     "text": [
      "[ent]\t[count]\n",
      "bible\t2\n",
      "we the people\t2\n",
      "we shall overcome\t2\n",
      "the holy koran\t2\n",
      "made in the usa\t1\n",
      "a “mad men”\t1\n",
      "across the south\t1\n",
      "rejoice in hope, be patient in tribulation, be constant in prayer\t1\n",
      "yes we can\t1\n",
      "congress on your corner\t1\n"
     ]
    }
   ],
   "source": [
    "art_ents = ent_counter(processed_speeches, ent_label = \"WORK_OF_ART\")\n",
    "print(\"[ent]\\t[count]\")\n",
    "for count in art_ents:\n",
    "    print(f\"{count[0]}\\t{count[1]}\")"
   ]
  },
  {
   "cell_type": "markdown",
   "metadata": {},
   "source": [
    "### Working with and plotting data\n",
    "\n",
    "Oftentimes, looking at raw numbers (like we've been doing here) doesn't adequately relay the relationships that can be observed in the data. As humans, we need a visual representation that accompanies the data, allowing us to see how patterns and relationships emerge within it. We can produce such visualizations by generating plots that fit the characteristics of our data. You're probably familiar with the most common types of plots, like scatter plots, line plots, bar plots, etc. In this section, we'll learn how to generate several of such plots in Python using a popular visualization library called `seaborn`. First, however, we will quickly review two other libraries that are often complimentary to generating plots in Python: `numpy` and `pandas`. "
   ]
  },
  {
   "cell_type": "markdown",
   "metadata": {},
   "source": [
    "#### numpy review\n",
    "\n",
    "`numpy` is a powerful library for working with numeric arrays: e,g. vectors, matrices, and tensors. Most Python applications that perform any sort of numeric computation (e.g. scikit-learn, PyTorch, tensorflow, etc.) employ numpy to some extent. Here we will review some basic `numpy` data structures and operations so that we can make use of them later on in this module. "
   ]
  },
  {
   "cell_type": "markdown",
   "metadata": {},
   "source": [
    "`numpy`'s main data structure is called the `array`. An array consists of numeric values of the same type (e.g. integer, float), organized across axes (or dimensions). One of the simplest numpy objects that we can make is a 1-dimensional array:"
   ]
  },
  {
   "cell_type": "code",
   "execution_count": 30,
   "metadata": {},
   "outputs": [
    {
     "name": "stdout",
     "output_type": "stream",
     "text": [
      "[3 7]\n"
     ]
    }
   ],
   "source": [
    "import numpy as np\n",
    "\n",
    "array_1d = np.array([3, 7])\n",
    "\n",
    "print(array_1d)"
   ]
  },
  {
   "cell_type": "markdown",
   "metadata": {},
   "source": [
    "We can think of an array with 1 axis as simply a list of numbers. Alternatively, in this example, we can imagine `array_1d` as a single point in a 2-dimensional space. If you'd like, you can also imagine it as a single numeric _vector_ that has $N$ dimensions. Here, $N$ corresponds to the length of the list. The length of `array_1d` is 2, so what we have is a 2-dimensional vector. \n",
    "\n",
    "We can also construct higher order arrays:"
   ]
  },
  {
   "cell_type": "code",
   "execution_count": 31,
   "metadata": {},
   "outputs": [
    {
     "name": "stdout",
     "output_type": "stream",
     "text": [
      "[[3 7]\n",
      " [9 8]\n",
      " [4 2]]\n"
     ]
    }
   ],
   "source": [
    "array_2d = np.array([[3, 7], [9, 8], [4, 2]])\n",
    "\n",
    "print(array_2d)"
   ]
  },
  {
   "cell_type": "markdown",
   "metadata": {},
   "source": [
    "This, effectively, is a list of number lists. Alternatively, instead of a single point like `array_1d`, you can think of `array_2d` as a list of points in 2D space. In linear algebraic terms, we can also refer to this structure as $3 \\times 2$ matrix. Here, we count 3 entries along the first axis, and 2 entries along the second.\n",
    "\n",
    "In fact, we can keep going and create arrays with arbitrarily many axes, though we typically stay with 3 or 4. Beyond matrices, we can refer to higher order arrays (e.g. $\\geq 3$ axes) as _tensors_. \n",
    "\n",
    "![arrays](arrays.png)"
   ]
  },
  {
   "cell_type": "markdown",
   "metadata": {},
   "source": [
    "We can look at various properties of our arrays like so:"
   ]
  },
  {
   "cell_type": "code",
   "execution_count": 32,
   "metadata": {},
   "outputs": [
    {
     "name": "stdout",
     "output_type": "stream",
     "text": [
      "2\n",
      "(3, 2)\n",
      "6\n",
      "int64\n"
     ]
    }
   ],
   "source": [
    "# Number of dimensions in array\n",
    "\n",
    "print(array_2d.ndim)\n",
    "\n",
    "# Shape of array\n",
    "\n",
    "print(array_2d.shape)\n",
    "\n",
    "# Total number of elements in array\n",
    "\n",
    "print(array_2d.size)\n",
    "\n",
    "# Type of elements in array\n",
    "\n",
    "print(array_2d.dtype)"
   ]
  },
  {
   "cell_type": "markdown",
   "metadata": {},
   "source": [
    "If we have several arrays, we can perform operations between them. "
   ]
  },
  {
   "cell_type": "code",
   "execution_count": 33,
   "metadata": {},
   "outputs": [
    {
     "name": "stdout",
     "output_type": "stream",
     "text": [
      "[[10 10]\n",
      " [10 10]\n",
      " [10 10]]\n",
      "[[-8 -6]\n",
      " [-4 -2]\n",
      " [ 0  2]]\n",
      "[[ 9 16]\n",
      " [21 24]\n",
      " [25 24]]\n",
      "[[0.11111111 0.25      ]\n",
      " [0.42857143 0.66666667]\n",
      " [1.         1.5       ]]\n",
      "[[25 19 13]\n",
      " [59 45 31]\n",
      " [93 71 49]]\n",
      "[[25 19 13]\n",
      " [59 45 31]\n",
      " [93 71 49]]\n"
     ]
    }
   ],
   "source": [
    "a = np.array([[1, 2], [3, 4], [5, 6]])\n",
    "b = np.array([[9, 8], [7, 6], [5, 4]])\n",
    "\n",
    "# Element-wise sum\n",
    "\n",
    "print(a + b)\n",
    "\n",
    "# Element-wise difference\n",
    "\n",
    "print(a - b)\n",
    "\n",
    "# Element-wise product\n",
    "\n",
    "print(a * b)\n",
    "\n",
    "# Element-wise quotient\n",
    "\n",
    "print(a / b)\n",
    "\n",
    "# Matrix (or dot) product\n",
    "\n",
    "print(a @ b.T)\n",
    "\n",
    "# Another way of doing so\n",
    "\n",
    "print(a.dot(b.T))"
   ]
  },
  {
   "cell_type": "markdown",
   "metadata": {},
   "source": [
    "What happens when we try the summation operation using lists?"
   ]
  },
  {
   "cell_type": "code",
   "execution_count": 34,
   "metadata": {},
   "outputs": [
    {
     "name": "stdout",
     "output_type": "stream",
     "text": [
      "[[1, 2], [3, 4], [5, 6], [9, 8], [7, 6], [5, 4]]\n"
     ]
    }
   ],
   "source": [
    "a_list = [[1, 2], [3, 4], [5, 6]]\n",
    "b_list = [[9, 8], [7, 6], [5, 4]]\n",
    "\n",
    "print(a_list + b_list)"
   ]
  },
  {
   "cell_type": "markdown",
   "metadata": {},
   "source": [
    "This seems to concatenate the two matrices together. If we'd like to replicate the element-wise summation that we had with arrays, we'd have to create a nested for-loop."
   ]
  },
  {
   "cell_type": "code",
   "execution_count": 35,
   "metadata": {},
   "outputs": [
    {
     "name": "stdout",
     "output_type": "stream",
     "text": [
      "[[10, 10], [10, 10], [10, 10]]\n"
     ]
    }
   ],
   "source": [
    "c_list = [[0, 0], [0, 0], [0, 0]]\n",
    "\n",
    "for i in range(3):\n",
    "    for j in range(2):\n",
    "        c_list[i][j] = a[i][j] + b[i][j]\n",
    "\n",
    "print(c_list)"
   ]
  },
  {
   "cell_type": "markdown",
   "metadata": {},
   "source": [
    "Conversely, if we'd like to concatenate two numpy vectors together, we can do so easily."
   ]
  },
  {
   "cell_type": "code",
   "execution_count": 36,
   "metadata": {},
   "outputs": [
    {
     "name": "stdout",
     "output_type": "stream",
     "text": [
      "[[1 2]\n",
      " [3 4]\n",
      " [5 6]\n",
      " [9 8]\n",
      " [7 6]\n",
      " [5 4]]\n",
      "[[1 2 9 8]\n",
      " [3 4 7 6]\n",
      " [5 6 5 4]]\n"
     ]
    }
   ],
   "source": [
    "# Concatenate along the (inferred) first axis\n",
    "\n",
    "print(np.concatenate((a, b)))\n",
    "\n",
    "# Concatenate along the second axis\n",
    "\n",
    "print(np.concatenate((a, b), axis=1))"
   ]
  },
  {
   "cell_type": "markdown",
   "metadata": {},
   "source": [
    "We can also perform operations on standalone vectors. "
   ]
  },
  {
   "cell_type": "code",
   "execution_count": 37,
   "metadata": {},
   "outputs": [
    {
     "name": "stdout",
     "output_type": "stream",
     "text": [
      "21\n",
      "[ 9 12]\n",
      "[ 3  7 11]\n",
      "[1.5 3.5 5.5]\n",
      "[[ 1  4]\n",
      " [ 9 16]\n",
      " [25 36]]\n",
      "[[1.         1.41421356]\n",
      " [1.73205081 2.        ]\n",
      " [2.23606798 2.44948974]]\n",
      "[[0.         0.69314718]\n",
      " [1.09861229 1.38629436]\n",
      " [1.60943791 1.79175947]]\n"
     ]
    }
   ],
   "source": [
    "# Compute sum of all elements\n",
    "\n",
    "print(np.sum(a))\n",
    "\n",
    "# Compute sum of each column\n",
    "print(np.sum(a, axis=0))\n",
    "\n",
    "# Compute sum of each row\n",
    "print(np.sum(a, axis=1))\n",
    "\n",
    "# Compute average of each column\n",
    "\n",
    "print(np.mean(a, axis=1))\n",
    "\n",
    "# Raise each element to the power of 2\n",
    "\n",
    "print(np.power(a, 2))\n",
    "\n",
    "# Return the square root each element\n",
    "\n",
    "print(np.sqrt(a))\n",
    "\n",
    "# Return the natural logarithm of each element\n",
    "\n",
    "print(np.log(a))"
   ]
  },
  {
   "cell_type": "markdown",
   "metadata": {},
   "source": [
    "We can also return specific entries in the array by indexing and slicing. Here, we index the rows first, the columns second, etc. If we do index specific columns, we must make use of the `,` symbol."
   ]
  },
  {
   "cell_type": "code",
   "execution_count": 38,
   "metadata": {},
   "outputs": [
    {
     "name": "stdout",
     "output_type": "stream",
     "text": [
      "[1 2]\n",
      "[1 3 5]\n",
      "6\n",
      "[2 4]\n"
     ]
    }
   ],
   "source": [
    "# Return first row of a\n",
    "\n",
    "print(a[0])\n",
    "\n",
    "# Return first column of a\n",
    "\n",
    "print(a[:,0])\n",
    "\n",
    "# Return entry in third row and second column - 6\n",
    "\n",
    "print(a[2,1])\n",
    "\n",
    "# Return the first two rows and the third column \n",
    "\n",
    "print(a[:2,1])"
   ]
  },
  {
   "cell_type": "markdown",
   "metadata": {},
   "source": [
    "We can also reshape our arrays, keeping the values intact. "
   ]
  },
  {
   "cell_type": "code",
   "execution_count": 39,
   "metadata": {},
   "outputs": [
    {
     "name": "stdout",
     "output_type": "stream",
     "text": [
      "[1 2 3 4 5 6]\n",
      "[[1 2 3]\n",
      " [4 5 6]]\n"
     ]
    },
    {
     "ename": "ValueError",
     "evalue": "cannot reshape array of size 6 into shape (7,9)",
     "output_type": "error",
     "traceback": [
      "\u001b[0;31m---------------------------------------------------------------------------\u001b[0m",
      "\u001b[0;31mValueError\u001b[0m                                Traceback (most recent call last)",
      "\u001b[0;32m<ipython-input-39-3c87d9a97044>\u001b[0m in \u001b[0;36m<module>\u001b[0;34m\u001b[0m\n\u001b[1;32m      9\u001b[0m \u001b[0;31m# NOTE: numpy will complain if it cannot fit the matrix into the provided shape\u001b[0m\u001b[0;34m\u001b[0m\u001b[0;34m\u001b[0m\u001b[0;34m\u001b[0m\u001b[0m\n\u001b[1;32m     10\u001b[0m \u001b[0;34m\u001b[0m\u001b[0m\n\u001b[0;32m---> 11\u001b[0;31m \u001b[0mprint\u001b[0m\u001b[0;34m(\u001b[0m\u001b[0ma\u001b[0m\u001b[0;34m.\u001b[0m\u001b[0mreshape\u001b[0m\u001b[0;34m(\u001b[0m\u001b[0;34m(\u001b[0m\u001b[0;36m7\u001b[0m\u001b[0;34m,\u001b[0m\u001b[0;36m9\u001b[0m\u001b[0;34m)\u001b[0m\u001b[0;34m)\u001b[0m\u001b[0;34m)\u001b[0m\u001b[0;34m\u001b[0m\u001b[0;34m\u001b[0m\u001b[0m\n\u001b[0m",
      "\u001b[0;31mValueError\u001b[0m: cannot reshape array of size 6 into shape (7,9)"
     ]
    }
   ],
   "source": [
    "# Convert entire matrix into a vector\n",
    "\n",
    "print(a.reshape((6,)))\n",
    "\n",
    "# Reshape matrix into a 2 X 3 matrix\n",
    "\n",
    "print(a.reshape((2,3)))\n",
    "\n",
    "# NOTE: numpy will complain if it cannot fit the matrix into the provided shape\n",
    "\n",
    "print(a.reshape((7,9)))"
   ]
  },
  {
   "cell_type": "markdown",
   "metadata": {},
   "source": [
    "Finally, we can use numpy to generate placeholder and dummy arrays."
   ]
  },
  {
   "cell_type": "code",
   "execution_count": null,
   "metadata": {},
   "outputs": [],
   "source": [
    "# Generate a matrix of zeros of shape 3 X 4\n",
    "\n",
    "print(np.zeros((3,4)))\n",
    "\n",
    "# Generate a matrix of ones of shape 3 X 4\n",
    "\n",
    "print(np.ones((3,4)))\n",
    "\n",
    "# Generate a matrix of a specified number of shape 3 X 4\n",
    "\n",
    "print(np.full((3,4), 123))\n",
    "\n",
    "# Generate a matrix of numbers drawn from a normal distribution of shape 3 X 4\n",
    "\n",
    "print(np.random.randn(3,4))"
   ]
  },
  {
   "cell_type": "markdown",
   "metadata": {},
   "source": [
    "More information about using numpy can be found [here](https://docs.scipy.org/doc/numpy/user/quickstart.html) and [here](https://cs231n.github.io/python-numpy-tutorial/#numpy). "
   ]
  },
  {
   "cell_type": "markdown",
   "metadata": {},
   "source": [
    "#### pandas review\n",
    "\n",
    "`pandas` is a useful library for storing and manipulating data in Python. It features useful integrations with other popular libraries, like `scikit-learn` and `seaborn`. The core object of `pandas` is the `DataFrame`, which acts as a table for various types of data. Here, we'll create a dummy `DataFrame` by passing in a dictionary of arbitrary values. In this case, the dictionary keys will act as column names, while their values will populate the table rows. "
   ]
  },
  {
   "cell_type": "code",
   "execution_count": null,
   "metadata": {},
   "outputs": [],
   "source": [
    "import pandas as pd\n",
    "\n",
    "df = pd.DataFrame({'A': np.power(np.array([1, 2, 3, 4, 5, 6]), 2),\n",
    "                   'B': pd.date_range('20200303', periods=6),\n",
    "                   'C': pd.Categorical([\"red\", \"blue\", \"green\", \"green\", \"red\", \"yellow\"]),\n",
    "                   'D': 'foo',\n",
    "                   'E': np.random.randn(6)})"
   ]
  },
  {
   "cell_type": "markdown",
   "metadata": {},
   "source": [
    "To see what a `DataFrame` looks like, we can look at its first and last $N$ elements."
   ]
  },
  {
   "cell_type": "code",
   "execution_count": null,
   "metadata": {},
   "outputs": [],
   "source": [
    "# Get first N elements of the DataFrame if specified, 5 otherwise\n",
    "\n",
    "print(df.head(3))\n",
    "\n",
    "# Get last N elements of the DataFrame if specified, 5 otherwise\n",
    "\n",
    "print(df.tail(3))"
   ]
  },
  {
   "cell_type": "markdown",
   "metadata": {},
   "source": [
    "We can see the type of element belonging to each column."
   ]
  },
  {
   "cell_type": "code",
   "execution_count": null,
   "metadata": {},
   "outputs": [],
   "source": [
    "print(df.dtypes)"
   ]
  },
  {
   "cell_type": "markdown",
   "metadata": {},
   "source": [
    "We can also view a statistical summary of all relevant columns. Here, columns \"A\" and \"E\" are the only continuous variables that can be used for calculation. "
   ]
  },
  {
   "cell_type": "code",
   "execution_count": null,
   "metadata": {},
   "outputs": [],
   "source": [
    "print(df.describe())"
   ]
  },
  {
   "cell_type": "markdown",
   "metadata": {},
   "source": [
    "If we need to access specific values or ranges of values, there is a variety of ways to do so."
   ]
  },
  {
   "cell_type": "code",
   "execution_count": null,
   "metadata": {},
   "outputs": [],
   "source": [
    "# Return specified column\n",
    "\n",
    "print(df[\"C\"])\n",
    "\n",
    "# Return 1st row\n",
    "\n",
    "print(df.iloc[0])\n",
    "\n",
    "# Return rows 2 to 4\n",
    "\n",
    "print(df.iloc[1:4])\n",
    "\n",
    "# Return rows 2 to 4, second and third columns\n",
    "\n",
    "print(df.iloc[1:4,1:3])"
   ]
  },
  {
   "cell_type": "markdown",
   "metadata": {},
   "source": [
    "We can also load data from character-delimited files (`.csv` or `.tsv`) directly into `pandas`. Here, we'll load a table containing the per-epoch loss and accuracy when training a neural dependency parser on a Finnish treebank. "
   ]
  },
  {
   "cell_type": "code",
   "execution_count": null,
   "metadata": {},
   "outputs": [],
   "source": [
    "training = pd.read_csv(\"../files/fi_tdt_training.csv\")\n",
    "\n",
    "print(training.head())"
   ]
  },
  {
   "cell_type": "markdown",
   "metadata": {},
   "source": [
    "#### Understanding variable relationships\n",
    "\n",
    "Before plotting, it is important to understand what sort of variables you're working with. In most situations, like in supervised learning, you'll be concerned with two variables: an X and a Y. Unlike supervised learning, however, you shouldn't always think of these as your input and output. Instead, you can refer to them as _independent_ and _dependent_ variables, respectively. Another name for these is _explanatory_ and _response_ variables, depending on what field you're in. \n",
    "\n",
    "To understand the relationship between the two, imagine tracking how quickly 100 people finished a 5km race. You have a data point for each individual racer, specifying their time in minutes. Imagine also that, prior to the race, you measured the height of each participant and now you want to visualize how these two variables interact. If you think in terms of dependence / independence, it might be intuitive to imagine the race time as the _dependent_ (or _response_) variable, and the height as the _independent_ (or explanatory) variable. In other words, how quickly someone finishes the race might _depend_ on the racer's height. You cannot say the same for the opposite scenario: how tall someone is not dependent on the person's finish time in a 5K. With this formulation, we can revisit the problem in terms of supervised learning, where our _dependent_ variable is the output of some function over our independent variable: $Y = f(X)$. With this in mind, when we're generating 2D plots, the convention is to place the independent variable on the X-axis and the dependent variable on the Y-axis. "
   ]
  },
  {
   "cell_type": "markdown",
   "metadata": {},
   "source": [
    "#### Continuous vs. Discrete variables\n",
    "\n",
    "When dealing with variables in statistics, there are typically two that we're concerned with: _continuous_ and _discrete_ variables. These are sometimes also called _numeric_ and _categorical_ variables, respectively. The difference between the two is subtle, but crucial. \n",
    "\n",
    "*Continuous* variables are those which can take infinite values within a specified range. Again, you can think of this in terms of human height. One's height is typically measured with 2-point precision (e.g. 1.87 meters), but this number can be infinitely precise (1.872847329483729843298473298743432897432 meters), just not infinitely measurable. Within the range of plausible human heights, it would be impossible to enumerate all values. The same can be said of other such variables, such as the speed of a car, degree of temperature, accuracy of a classifier, etc.\n",
    "\n",
    "*Discrete* variables are those which can be counted in finite time by whole numbers. You can think of this in terms of categories. Say, instead of measuring one's height directly, we gave them a ballpark classification of \"short\" or \"tall\". There is no _range_ here, per sé, just the two levels of \"short\" and \"tall. We can't assign any reasonable value to someone that is of \"average\" height, since we only have two categories. Other examples of discrete variables might be biological sex, days of the week, or even a binary choice (yes or no). "
   ]
  },
  {
   "cell_type": "markdown",
   "metadata": {},
   "source": [
    "#### Scatter plots\n",
    "\n",
    "Scatterplots are typically the go-to plot when both variables you're working with are numeric (e.g. continuous). Let's generate some random numbers and visualize them using a scatter plot. "
   ]
  },
  {
   "cell_type": "code",
   "execution_count": 50,
   "metadata": {},
   "outputs": [
    {
     "data": {
      "image/png": "[encoded data removed]",
      "text/plain": [
       "<Figure size 360x360 with 1 Axes>"
      ]
     },
     "metadata": {},
     "output_type": "display_data"
    }
   ],
   "source": [
    "import numpy as np\n",
    "import matplotlib.pyplot as plt\n",
    "import seaborn as sns\n",
    "import pandas as pd\n",
    "\n",
    "%matplotlib inline\n",
    "\n",
    "sns.set(style=\"whitegrid\")\n",
    "\n",
    "df1 = pd.DataFrame(dict(X=np.random.randn(500),\n",
    "                       Y=np.random.randn(500)))\n",
    "\n",
    "scatter1 = sns.relplot(x=\"X\", y=\"Y\",\n",
    "                      data=df1, kind=\"scatter\")"
   ]
  },
  {
   "cell_type": "markdown",
   "metadata": {},
   "source": [
    "If we have an additional (discrete) variable that we'd like to categorize the data by, we can use color to differentiate between samples. "
   ]
  },
  {
   "cell_type": "code",
   "execution_count": null,
   "metadata": {},
   "outputs": [],
   "source": [
    "df2 = pd.DataFrame(dict(X=np.random.randn(500),\n",
    "                       Y=np.random.randn(500),\n",
    "                       cat=np.random.randint(2, size=500)))\n",
    "\n",
    "scatter2 = sns.relplot(x=\"X\", y=\"Y\", hue=\"cat\",\n",
    "                      data=df2, kind=\"scatter\")"
   ]
  },
  {
   "cell_type": "markdown",
   "metadata": {},
   "source": [
    "... we can also use point styles..."
   ]
  },
  {
   "cell_type": "code",
   "execution_count": null,
   "metadata": {},
   "outputs": [],
   "source": [
    "df3 = pd.DataFrame(dict(X=np.random.randn(500),\n",
    "                       Y=np.random.randn(500),\n",
    "                       cat_a=np.random.randint(2, size=500),\n",
    "                       cat_b=np.random.randint(3, size=500)))\n",
    "\n",
    "scatter3 = sns.relplot(x=\"X\", y=\"Y\", hue=\"cat_a\", style=\"cat_b\",\n",
    "                      data=df3, kind=\"scatter\")"
   ]
  },
  {
   "cell_type": "markdown",
   "metadata": {},
   "source": [
    "... as well as size..."
   ]
  },
  {
   "cell_type": "code",
   "execution_count": null,
   "metadata": {},
   "outputs": [],
   "source": [
    "df4 = pd.DataFrame(dict(X=np.random.randn(500),\n",
    "                       Y=np.random.randn(500),\n",
    "                       cat_a=np.random.randint(2, size=500),\n",
    "                       cat_b=np.random.randint(3, size=500),\n",
    "                       cat_c=np.random.randint(10, size=500)))\n",
    "\n",
    "scatter4 = sns.relplot(x=\"X\", y=\"Y\", hue=\"cat_a\", style=\"cat_b\", size=\"cat_c\",\n",
    "                      data=df4, kind=\"scatter\")"
   ]
  },
  {
   "cell_type": "markdown",
   "metadata": {},
   "source": [
    "We can also fit a regression to visualize the relationship between our variables. "
   ]
  },
  {
   "cell_type": "code",
   "execution_count": null,
   "metadata": {},
   "outputs": [],
   "source": [
    "reg = sns.regplot(x=\"X\", y=\"Y\", data=df1)"
   ]
  },
  {
   "cell_type": "markdown",
   "metadata": {},
   "source": [
    "#### Line plots\n",
    "\n",
    "If our independent variable is a continuous variable --- or even a discrete variable that can be sorted as some function of time --- it might be better to draw a line plot. Here we'll visualize the loss, dev UAS, and dev LAS of a neural dependency parser as a function of training epoch. "
   ]
  },
  {
   "cell_type": "code",
   "execution_count": null,
   "metadata": {},
   "outputs": [],
   "source": [
    "training_plot = sns.relplot(x=\"epoch\", y=\"loss\", color=\"r\",\n",
    "                            kind=\"line\", data=training)"
   ]
  },
  {
   "cell_type": "code",
   "execution_count": null,
   "metadata": {},
   "outputs": [],
   "source": [
    "uas_plot = sns.relplot(x=\"epoch\", y=\"dev_uas\", color=\"g\",\n",
    "                       kind=\"line\", data=training)"
   ]
  },
  {
   "cell_type": "code",
   "execution_count": null,
   "metadata": {},
   "outputs": [],
   "source": [
    "las_plot = sns.relplot(x=\"epoch\", y=\"dev_las\", color=\"b\",\n",
    "                       kind=\"line\", data=training)"
   ]
  },
  {
   "cell_type": "markdown",
   "metadata": {},
   "source": [
    "Now let's try to put these all into one plot. Since `seaborn` is essentially an easy-to-understand interface for Matplotlib, we can also use all of Matplotlib's power to make more advanced plots (ignore the empty ones).  "
   ]
  },
  {
   "cell_type": "code",
   "execution_count": 1,
   "metadata": {},
   "outputs": [
    {
     "ename": "NameError",
     "evalue": "name 'plt' is not defined",
     "output_type": "error",
     "traceback": [
      "\u001b[0;31m---------------------------------------------------------------------------\u001b[0m",
      "\u001b[0;31mNameError\u001b[0m                                 Traceback (most recent call last)",
      "\u001b[0;32m<ipython-input-1-6481474fedb0>\u001b[0m in \u001b[0;36m<module>\u001b[0;34m\u001b[0m\n\u001b[0;32m----> 1\u001b[0;31m \u001b[0mfig\u001b[0m\u001b[0;34m,\u001b[0m \u001b[0;34m(\u001b[0m\u001b[0max1\u001b[0m\u001b[0;34m,\u001b[0m \u001b[0max2\u001b[0m\u001b[0;34m,\u001b[0m \u001b[0max3\u001b[0m\u001b[0;34m)\u001b[0m \u001b[0;34m=\u001b[0m \u001b[0mplt\u001b[0m\u001b[0;34m.\u001b[0m\u001b[0msubplots\u001b[0m\u001b[0;34m(\u001b[0m\u001b[0;36m1\u001b[0m\u001b[0;34m,\u001b[0m \u001b[0;36m3\u001b[0m\u001b[0;34m,\u001b[0m \u001b[0mfigsize\u001b[0m\u001b[0;34m=\u001b[0m\u001b[0;34m(\u001b[0m\u001b[0;36m15\u001b[0m\u001b[0;34m,\u001b[0m \u001b[0;36m4\u001b[0m\u001b[0;34m)\u001b[0m\u001b[0;34m)\u001b[0m\u001b[0;34m\u001b[0m\u001b[0;34m\u001b[0m\u001b[0m\n\u001b[0m\u001b[1;32m      2\u001b[0m \u001b[0;34m\u001b[0m\u001b[0m\n\u001b[1;32m      3\u001b[0m loss = sns.relplot(x=\"epoch\", y=\"loss\", color=\"r\",\n\u001b[1;32m      4\u001b[0m                    kind=\"line\", data=training, ax=ax1)\n\u001b[1;32m      5\u001b[0m \u001b[0;34m\u001b[0m\u001b[0m\n",
      "\u001b[0;31mNameError\u001b[0m: name 'plt' is not defined"
     ]
    }
   ],
   "source": [
    "fig, (ax1, ax2, ax3) = plt.subplots(1, 3, figsize=(15, 4))\n",
    "\n",
    "loss = sns.relplot(x=\"epoch\", y=\"loss\", color=\"r\",\n",
    "                   kind=\"line\", data=training, ax=ax1)\n",
    "\n",
    "uas = sns.relplot(x=\"epoch\", y=\"dev_uas\", color=\"g\",\n",
    "                  kind=\"line\", data=training, ax=ax2)\n",
    "\n",
    "las = sns.relplot(x=\"epoch\", y=\"dev_las\", color=\"b\",\n",
    "                  kind=\"line\", data=training, ax=ax3)\n",
    "\n",
    "ax1.set_title(\"Loss per Epoch\")\n",
    "ax2.set_title(\"Dev UAS per Epoch\")\n",
    "ax3.set_title(\"Dev LAS per Epoch\")\n",
    "ax1.set_ylabel(\"Loss\")\n",
    "ax2.set_ylabel(\"Dev UAS\")\n",
    "ax3.set_ylabel(\"Dev LAS\")\n",
    "ax2.set_ylim(0.4 ,1.0)\n",
    "ax3.set_ylim(0.4 ,1.0)"
   ]
  },
  {
   "cell_type": "markdown",
   "metadata": {},
   "source": [
    "#### Bar plots\n",
    "\n",
    "If our independent variable is discrete and we're interested in representing the overall tendency of its levels (as opposed to a distribution), then a bar plot might be what we're looking for. This works if you're working with count data, for example. Let's plot the Top 10 place mentions in Obama's speeches. "
   ]
  },
  {
   "cell_type": "code",
   "execution_count": null,
   "metadata": {},
   "outputs": [],
   "source": [
    "counts = ent_counter(processed_speeches, \n",
    "                     ent_label = \"GPE\",\n",
    "                     n=10)\n",
    "\n",
    "top_10_places = pd.DataFrame(dict(ent_label = [ent[0] for ent in counts],\n",
    "                                  ent_count = [ent[1] for ent in counts]))\n",
    "\n",
    "place_plot = sns.catplot(x=\"ent_label\", y=\"ent_count\", \n",
    "                         kind=\"bar\", palette=\"colorblind\",\n",
    "                         data=top_10_places)\n",
    "\n",
    "place_plot.set_xticklabels(rotation=90)"
   ]
  },
  {
   "cell_type": "markdown",
   "metadata": {},
   "source": [
    "This will complete the lecture on preprocessing and visualization. You should now have a good grasp of the toolkits to work with when cleaning and looking at data. In the next lecture we'll employ some of the concepts we've learned here to write and deploy a self-standing Python package. "
   ]
  },
  {
   "cell_type": "code",
   "execution_count": null,
   "metadata": {},
   "outputs": [],
   "source": []
  }
 ],
 "metadata": {
  "kernelspec": {
   "display_name": "Python 3",
   "language": "python",
   "name": "python3"
  },
  "language_info": {
   "codemirror_mode": {
    "name": "ipython",
    "version": 3
   },
   "file_extension": ".py",
   "mimetype": "text/x-python",
   "name": "python",
   "nbconvert_exporter": "python",
   "pygments_lexer": "ipython3",
   "version": "3.7.3"
  }
 },
 "nbformat": 4,
 "nbformat_minor": 2
}
